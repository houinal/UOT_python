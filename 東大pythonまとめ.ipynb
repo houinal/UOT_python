{
 "cells": [
  {
   "cell_type": "markdown",
   "metadata": {},
   "source": [
    "# 東大 Pythonプログラミング入門　"
   ]
  },
  {
   "cell_type": "markdown",
   "metadata": {},
   "source": [
    "https://utokyo-ipp.github.io/"
   ]
  },
  {
   "cell_type": "markdown",
   "metadata": {},
   "source": [
    "記載事項  \n",
    ">・一部練習の別解  \n",
    ">・章ごとの感想\n"
   ]
  },
  {
   "cell_type": "markdown",
   "metadata": {},
   "source": [
    "# 章ごとの感想"
   ]
  },
  {
   "cell_type": "markdown",
   "metadata": {},
   "source": [
    "### 1-0. Colaboratoryによるノートブックの使い方  \n",
    "> いらない\n",
    "### 1-1. 数値演算\n",
    "> python未経験者：必須\n",
    "### 1-2. 変数と関数の基礎\n",
    "> python未経験者：必須\n",
    "### 1-3. 論理・比較演算と条件分岐の基礎\n",
    "> python未経験者：必須  \n",
    "> ※▲箇所はいらない\n",
    "### 1-4. デバッグ\n",
    "> python未経験者：必読  \n",
    "> ※▲箇所はいらない\n",
    "### 2-1. 文字列 (string)\n",
    "> python未経験者：必須  \n",
    "> ※▲箇所はいらない\n",
    "### 2-2. リスト (list)\n",
    "> 必須（重め）  \n",
    "> ※▲箇所も要実施\n",
    "### 2-3. 条件分岐\n",
    "> 必須  \n",
    "> ※▲箇所も要実施\n",
    "### 3-1. 辞書 (dictionary)\n",
    "> 必須  \n",
    "> ※▲箇所も要実施\n",
    "### 3-2. 繰り返し\n",
    "> 必須  \n",
    "> ※break, continue, pass, for elseは微妙（可読性）\n",
    "### 3-3. 関数\n",
    "> 必須  \n",
    "> ※▲箇所は一読程度\n",
    "### 4-1. ファイル入出力の基本\n",
    "> 重要だが、pandasのデータ入出力の方が触れやすい＆利用頻度高め  \n",
    "### 4-2. イテレータ\n",
    "> 重要だが、優先度低め\n",
    "### 4-3. コンピュータにおけるファイルやディレクトリの配置\n",
    "> ×不要\n",
    "### 5-1. モジュールの使い方\n",
    "> 必須\n",
    "### 5-2. モジュールの作り方\n",
    "> 5-1の付属として一読する程度でOK\n",
    "### 5-3. NumPyライブラリ\n",
    "> 必須  \n",
    "> ※▲箇所も要実施\n",
    "### 6-1. 内包表記\n",
    "> 必須  \n",
    "> ※▲箇所も要実施（ジェネレータ式は一読）\n",
    "### 6-2. 高階関数\n",
    "> 重要だが、優先度低め  \n",
    "> ※ラムダ式は要実施\n",
    "### 6-3. クラス\n",
    "> 不要\n",
    "### 7-1. pandasライブラリ\n",
    "> 必須  \n",
    "> ※▲箇所も要実施\n",
    "### 7-2. scikit-learnライブラリ\n",
    "> 必須  \n",
    "> ※DataFrameで処理する形にした方がわかりやすい\n",
    "### ▲Jupyter Notebook の使い方\n",
    "> 不要（JupyterLabを推奨するため）\n",
    "### ▲セット (set)\n",
    "> 必須  \n",
    "> ※リストの重複削除や差分等の処理に使用するため\n",
    "### ▲再帰\n",
    "> 不要\n",
    "### ▲簡単なデータの可視化\n",
    "> 必須\n",
    "### ▲CSVファイルの入出力\n",
    "> 重要だが、優先度低め  \n",
    "> ※練習があまりよくない印象\n",
    "### ▲Bokehライブラリ\n",
    "> 不要\n",
    "### ▲Pythonスクリプトとコマンドライン実行\n",
    "> 不要\n",
    "### ▲Matplotlibライブラリ\n",
    "> 重要だが、練習に本題とは関係ないopenを含むのが良くない印象\n",
    "### ▲正規表現\n",
    "> 必須"
   ]
  },
  {
   "cell_type": "markdown",
   "metadata": {},
   "source": [
    "|章|必須|重要|一読|不要|▲|\n",
    "|-|--|--|--|--|--|\n",
    "|1-0. Colaboratoryによるノートブックの使い方|-|-|-|〇|-|\n",
    "|1-1. 数値演算|〇|-|-|-|-|\n",
    "|1-2. 変数と関数の基礎|〇|-|-|-|-|\n",
    "|1-3. 論理・比較演算と条件分岐の基礎|〇|-|-|-|×|\n",
    "|1-4. デバッグ|〇|-|-|-|×|\n",
    "|2-1. 文字列 (string)|〇|-|-|-|×|\n",
    "|2-2. リスト (list)|〇|-|-|-|〇|\n",
    "|2-3. 条件分岐|〇|-|-|-|〇|\n",
    "|3-1. 辞書 (dictionary)|〇|-|-|-|〇|\n",
    "|3-2. 繰り返し|〇|-|-|-|-|\n",
    "|3-3. 関数|〇|-|-|-|△|\n",
    "|4-1. ファイル入出力の基本|-|〇|-|-|-|\n",
    "|4-2. イテレータ|-|〇|-|-|-|\n",
    "|4-3. コンピュータにおけるファイルやディレクトリの配置|-|-|-|〇|-|\n",
    "|5-1. モジュールの使い方|〇|-|-|-|-|\n",
    "|5-2. モジュールの作り方|-|△|〇|-|-|\n",
    "|5-3. NumPyライブラリ|〇|-|-|-|〇|\n",
    "|6-1. 内包表記|〇|-|-|-|〇|\n",
    "|6-2. 高階関数|-|〇|-|-|-|\n",
    "|6-3. クラス|-|-|-|〇|-|\n",
    "|7-1. pandasライブラリ|〇|-|-|-|〇|\n",
    "|7-2. scikit-learnライブラリ|〇|-|-|-|-|\n",
    "|▲Jupyter Notebook の使い方|-|-|-|〇|-|\n",
    "|▲再帰|-|-|-|〇|-|\n",
    "|▲簡単なデータの可視化|〇|-|-|-|-|\n",
    "|▲CSVファイルの入出力|-|〇|-|-|-|\n",
    "|▲Bokehライブラリ|-|-|-|〇|-|\n",
    "|▲Pythonスクリプトとコマンドライン実行|-|-|-|〇|-|\n",
    "|▲Matplotlibライブラリ|-|〇|-|-|-|\n",
    "|▲正規表現|〇|-|-|-|-|"
   ]
  },
  {
   "cell_type": "markdown",
   "metadata": {},
   "source": [
    "1章（1-0除外）  \n",
    "2-1. 文字列 (string)  \n",
    "2-2. リスト (list)  \n",
    "**3-1. 辞書 (dictionary)**  \n",
    "2-3. 条件分岐  \n",
    "3-2. 繰り返し  \n",
    "**6-1. 内包表記**  \n",
    "3-3. 関数  \n",
    "5-1. モジュールの使い方  \n",
    "5-2. モジュールの作り方  \n",
    "5-3. NumPyライブラリ  \n",
    "7-1. pandasライブラリ  \n",
    "7-2. scikit-learnライブラリ  \n",
    "▲簡単なデータの可視化  \n",
    "▲正規表現  "
   ]
  },
  {
   "cell_type": "markdown",
   "metadata": {},
   "source": [
    "上記を完了後であれば、100本ノックをスムーズに進められると思料  \n",
    "※pandasのファイル入出力については、100本ノックで補える"
   ]
  },
  {
   "cell_type": "markdown",
   "metadata": {},
   "source": [
    "# 一部練習の別解"
   ]
  },
  {
   "cell_type": "markdown",
   "metadata": {},
   "source": [
    "## 2-1. 文字列（String）"
   ]
  },
  {
   "cell_type": "code",
   "execution_count": 2,
   "metadata": {},
   "outputs": [],
   "source": [
    "def remove_punctuations(str_engsentences):\n",
    "    dict = {'.':'', ',':'', ':':'', ';':'', '!':'', '?':''}\n",
    "    return str_engsentences.translate(str.maketrans(dict))"
   ]
  },
  {
   "cell_type": "code",
   "execution_count": 3,
   "metadata": {},
   "outputs": [],
   "source": [
    "def atgc_bppair(str_atgc):\n",
    "    dict = {'A':'T', 'T':'A', 'G':'C', 'C':'G'}\n",
    "    return str_atgc.translate(str.maketrans(dict))"
   ]
  },
  {
   "cell_type": "code",
   "execution_count": 4,
   "metadata": {},
   "outputs": [],
   "source": [
    "def remove_clause(str_engsentences):\n",
    "    indx = str_engsentences.index(',')\n",
    "    # カンマ直後の半角空欄の有無を考慮\n",
    "    return str_engsentences[indx+1:].strip().capitalize()"
   ]
  },
  {
   "cell_type": "markdown",
   "metadata": {},
   "source": [
    "## 2-2. リスト（list）"
   ]
  },
  {
   "cell_type": "code",
   "execution_count": 1,
   "metadata": {},
   "outputs": [
    {
     "data": {
      "text/plain": [
       "'a'"
      ]
     },
     "execution_count": 1,
     "metadata": {},
     "output_type": "execute_result"
    }
   ],
   "source": [
    "# 誤字（修正前：chracters）\n",
    "characters = ['e', 'd', 'a', 'c', 'f', 'b']\n",
    "min(characters)"
   ]
  },
  {
   "cell_type": "code",
   "execution_count": 6,
   "metadata": {},
   "outputs": [],
   "source": [
    "def atgc_countlist(str_atgc):\n",
    "    return [[str_atgc.count(i), i] for i in 'ATGC']"
   ]
  },
  {
   "cell_type": "markdown",
   "metadata": {},
   "source": [
    "## 2-3. 条件分岐"
   ]
  },
  {
   "cell_type": "code",
   "execution_count": 7,
   "metadata": {},
   "outputs": [],
   "source": [
    "def exception3(x,y,z):\n",
    "    lst = (x, y, z)\n",
    "    dict = {lst.count(v):v for v in set(lst)}\n",
    "    return dict[1]"
   ]
  },
  {
   "cell_type": "code",
   "execution_count": 8,
   "metadata": {},
   "outputs": [],
   "source": [
    "def exception9(a):\n",
    "    dict = {a.count(v) : v for v in set(a)}\n",
    "    return dict[1]"
   ]
  },
  {
   "cell_type": "markdown",
   "metadata": {},
   "source": [
    "## 3-1. 辞書（dictionary）"
   ]
  },
  {
   "cell_type": "code",
   "execution_count": 9,
   "metadata": {},
   "outputs": [],
   "source": [
    "def reverse_lookup(list1):\n",
    "    return {v : i for i, v in enumerate(list1)}"
   ]
  },
  {
   "cell_type": "code",
   "execution_count": 10,
   "metadata": {},
   "outputs": [],
   "source": [
    "def handle_collision(dic1, str1):\n",
    "    n = len(str1)\n",
    "    # キーが登録されていない場合\n",
    "    if dic1.get(n) is None:\n",
    "        ls = [str1]\n",
    "    \n",
    "    # キーが登録されている場合\n",
    "    else:\n",
    "        ls = dic1.get(n) + [str1]\n",
    "\n",
    "    dic1[n] = ls\n",
    "    return dic1"
   ]
  },
  {
   "cell_type": "markdown",
   "metadata": {},
   "source": [
    "## 3-2. 繰り返し"
   ]
  },
  {
   "cell_type": "code",
   "execution_count": 11,
   "metadata": {},
   "outputs": [],
   "source": [
    "def reverse_lookup2(dic1):\n",
    "    return {value:key for key, value in dic1.items()}"
   ]
  },
  {
   "cell_type": "code",
   "execution_count": 12,
   "metadata": {},
   "outputs": [],
   "source": [
    "def construct_list(int_size):\n",
    "    return list(range(int_size))"
   ]
  },
  {
   "cell_type": "code",
   "execution_count": 13,
   "metadata": {},
   "outputs": [],
   "source": [
    "def sum_lists(list1):\n",
    "    return sum([sum(lst) for lst in list1])"
   ]
  },
  {
   "cell_type": "code",
   "execution_count": 14,
   "metadata": {},
   "outputs": [],
   "source": [
    "def sum_matrix(list1, list2):\n",
    "    return [[i+j for i, j in zip(lst1, lst2)] for lst1, lst2 in zip(list1, list2)]"
   ]
  },
  {
   "cell_type": "code",
   "execution_count": 15,
   "metadata": {},
   "outputs": [],
   "source": [
    "def simple_match(str1, str2):\n",
    "    if str2 in str1:\n",
    "        return str1.index(str2)\n",
    "    else:\n",
    "        return -1"
   ]
  },
  {
   "cell_type": "code",
   "execution_count": 16,
   "metadata": {},
   "outputs": [],
   "source": [
    "def collect_engwords(str_engsentence):\n",
    "    # 句読点を削除\n",
    "    list = str_engsentence.translate(str.maketrans({',':'', '.':''}))\n",
    "    # 3文字以上の単語を抽出\n",
    "    return [lst for lst in list.split() if len(lst) >= 3]"
   ]
  },
  {
   "cell_type": "code",
   "execution_count": 17,
   "metadata": {},
   "outputs": [],
   "source": [
    "def count_capitalletters(str1):\n",
    "    return sum([str == str.upper() for str in str1 if str.upper() != str.lower()])"
   ]
  },
  {
   "cell_type": "code",
   "execution_count": 18,
   "metadata": {},
   "outputs": [],
   "source": [
    "def identify_codons(str_augc):\n",
    "    return [str_augc[i:i+3] for i in range(len(str_augc)) if i%3 == 0]"
   ]
  },
  {
   "cell_type": "code",
   "execution_count": 19,
   "metadata": {},
   "outputs": [],
   "source": [
    "def add_commas(int1):\n",
    "  \n",
    "    str1 = str(int1)\n",
    "    mod = len(str1) % 3\n",
    "\n",
    "    return','.join([s for s in [str1[:mod]] + identify_codons(str1[mod:]) if len(s) > 0])"
   ]
  },
  {
   "cell_type": "code",
   "execution_count": 20,
   "metadata": {},
   "outputs": [],
   "source": [
    "def sum_strings(list1):\n",
    "    # 要素を文字列に変換\n",
    "    lst =[str(i) for i in list1]\n",
    "    # 最後の要素以外を「, 」で結合し文字列に変換①\n",
    "    # ①と最後の要素の2要素のリストを作成　※①が空の場合は最後の要素のみ\n",
    "    list = [s for s in [', '.join(lst[:-1])] + [lst[-1]] if len(s) > 0]\n",
    "    \n",
    "    return ' and '.join(list)"
   ]
  },
  {
   "cell_type": "code",
   "execution_count": 21,
   "metadata": {},
   "outputs": [],
   "source": [
    "def handle_collision3(list1):\n",
    "    return {k:v for k, v in reversed(list1)}"
   ]
  },
  {
   "cell_type": "markdown",
   "metadata": {},
   "source": [
    "## 6-1. 内包表記"
   ]
  },
  {
   "cell_type": "code",
   "execution_count": 22,
   "metadata": {},
   "outputs": [],
   "source": [
    "def sum_matrix(list1, list2):\n",
    "    return [[l1 + l2 for l1, l2 in zip(lst1, lst2)] for lst1, lst2 in zip(list1, list2)]"
   ]
  },
  {
   "cell_type": "code",
   "execution_count": 23,
   "metadata": {},
   "outputs": [],
   "source": [
    "def number_of_big_numbers(ln, n):\n",
    "    return sum(x > n for x in ln)"
   ]
  },
  {
   "cell_type": "code",
   "execution_count": 24,
   "metadata": {},
   "outputs": [],
   "source": [
    "def number_of_long_lines(file, n):\n",
    "    with open(file, 'r', encoding='utf-8') as f:\n",
    "        return len(list(filter(lambda x:len(x)>n, f)))"
   ]
  },
  {
   "cell_type": "markdown",
   "metadata": {},
   "source": [
    "## ▲セット（set）"
   ]
  },
  {
   "cell_type": "code",
   "execution_count": 25,
   "metadata": {},
   "outputs": [],
   "source": [
    "def count_words2(str_engsentences):\n",
    "    return len(set(str_engsentences.translate(str.maketrans({'.':'', ',':'', '!':'', '?':'', ':':'', ';':''})).split(' ')))"
   ]
  },
  {
   "cell_type": "markdown",
   "metadata": {},
   "source": [
    "## ▲Matplotlibライブラリ"
   ]
  },
  {
   "cell_type": "markdown",
   "metadata": {},
   "source": [
    "修正箇所  \n",
    ">-2 から 2 の範囲を 0.1 刻みでx軸の値を配列として作成し、そのx軸の値に対して numpy モジュールの exp() 関数を用いてy軸の値を作成し、y=e\n",
    "x\n",
    "> のグラフを描画する関数 plot_exp を作成してください。ただし、そのグラフに任意のタイトル、x軸、y軸の任意のラベル、任意の凡例、グリッドを表示させてください。\n",
    "\n",
    "修正後\n",
    ">xを関数の返却値とする旨を追記する必要がある"
   ]
  },
  {
   "cell_type": "markdown",
   "metadata": {},
   "source": [
    "## ▲正規表現"
   ]
  },
  {
   "cell_type": "code",
   "execution_count": 26,
   "metadata": {},
   "outputs": [],
   "source": [
    "import re\n",
    "def check_monthstr(str1):\n",
    "    return re.search('(0[1-9]|1[0-2])', str1)"
   ]
  },
  {
   "cell_type": "code",
   "execution_count": 27,
   "metadata": {},
   "outputs": [],
   "source": [
    "import re\n",
    "def check_ACGTstr(str1):\n",
    "    return re.search('^(A|C|G|T)+', str1, re.IGNORECASE) is not None"
   ]
  },
  {
   "cell_type": "code",
   "execution_count": 28,
   "metadata": {},
   "outputs": [],
   "source": [
    "import re\n",
    "def check_timestr(str1):\n",
    "    return re.search('(0[1-9]|1[0-1]):([0-5][0-9])', str1)"
   ]
  },
  {
   "cell_type": "code",
   "execution_count": 29,
   "metadata": {},
   "outputs": [],
   "source": [
    "import re\n",
    "def check_ipv4str(str1):\n",
    "    pattern = ':'.join(['([0-1][0-9][0-9]|2[0-4][0-9]|25[0-5])']*4)\n",
    "    return re.search(pattern, str1)"
   ]
  },
  {
   "cell_type": "code",
   "execution_count": 30,
   "metadata": {},
   "outputs": [],
   "source": [
    "import re\n",
    "def check_monthdaystr(str1):\n",
    "  \n",
    "    day0 = \"0[1-9]|[1-2][0-9]\"\n",
    "    day1 = day0 + \"|3[0-1]\"\n",
    "    day2 = day0 + \"|30\"\n",
    "    \n",
    "    pattern1 = '(' + '|'.join([\"01\", \"03\", \"05\", \"07\", \"08\", \"10\", \"12\"]) + ')/(' + day1 + ')'\n",
    "    pattern2 = '(' + '|'.join([\"04\", \"06\", \"09\", \"11\"]) + ')/(' + day2 + ')'\n",
    "    pattern3 = '(' + '|'.join([\"02\"]) + ')/(' + day0 + ')'\n",
    "\n",
    "    pattern = '(' + ')|('.join([pattern1, pattern2, pattern3]) + ')'\n",
    "\n",
    "    return re.search(pattern, str1)"
   ]
  },
  {
   "cell_type": "code",
   "execution_count": 31,
   "metadata": {},
   "outputs": [],
   "source": [
    "import re\n",
    "def get_engsentences():\n",
    "\n",
    "    lst = []\n",
    "    pattern = r'[^a-zA-Z]+'\n",
    "\n",
    "    with open('text-sample.txt', 'r') as f:\n",
    "\n",
    "        for line in f:\n",
    "\n",
    "            lst += [s.lower() for s in re.split(pattern, line) if s != '']\n",
    "\n",
    "    return sorted(lst)"
   ]
  },
  {
   "cell_type": "code",
   "execution_count": 32,
   "metadata": {},
   "outputs": [],
   "source": [
    "import re\n",
    "def get_engsentences2():\n",
    "    return sorted(list(set(get_engsentences())))"
   ]
  },
  {
   "cell_type": "code",
   "execution_count": 33,
   "metadata": {},
   "outputs": [],
   "source": [
    "import re\n",
    "def sumnumbers(s):\n",
    "    return sum(int(s) for s in re.split(r'[^\\d]+', s) if s != '')"
   ]
  },
  {
   "cell_type": "code",
   "execution_count": 34,
   "metadata": {},
   "outputs": [],
   "source": [
    "import re\n",
    "def check_ACGTstr(str1):\n",
    "    return re.search(r'^[ACGT]+$', str1, re.I) is not None"
   ]
  },
  {
   "cell_type": "code",
   "execution_count": 35,
   "metadata": {},
   "outputs": [],
   "source": [
    "import re\n",
    "def check_postalcode(str1):\n",
    "    return re.search(r'^[0-9]{3}-[0-9]{4}$', str1) is not None"
   ]
  },
  {
   "cell_type": "code",
   "execution_count": 36,
   "metadata": {},
   "outputs": [],
   "source": [
    "import re\n",
    "def check_extension(str1):\n",
    "    return re.match(r'2\\d{4}$', str1) is not None"
   ]
  },
  {
   "cell_type": "code",
   "execution_count": 37,
   "metadata": {},
   "outputs": [],
   "source": [
    "import re\n",
    "def get_pos():\n",
    "    dict = {}\n",
    "    pattern = r'<w[^>]*pos=\\\"([^>\\\"]*)\\\"[^>]*>([^<]*)</w>'\n",
    "\n",
    "    with open('B1S.xml', 'r') as f:\n",
    "\n",
    "        for line in f:\n",
    "        \n",
    "            dict.update({s.group(2):s.group(1) for s in re.finditer(pattern, line)})\n",
    "\n",
    "    return dict"
   ]
  },
  {
   "cell_type": "code",
   "execution_count": null,
   "metadata": {},
   "outputs": [],
   "source": []
  }
 ],
 "metadata": {
  "kernelspec": {
   "display_name": "Python 3",
   "language": "python",
   "name": "python3"
  },
  "language_info": {
   "codemirror_mode": {
    "name": "ipython",
    "version": 3
   },
   "file_extension": ".py",
   "mimetype": "text/x-python",
   "name": "python",
   "nbconvert_exporter": "python",
   "pygments_lexer": "ipython3",
   "version": "3.7.3"
  }
 },
 "nbformat": 4,
 "nbformat_minor": 4
}
